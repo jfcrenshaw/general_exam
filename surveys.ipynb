{
 "cells": [
  {
   "cell_type": "markdown",
   "metadata": {},
   "source": [
    "This notebook plots the depth and area of various imaging surveys. Where possible, limits are $r$ band, or a wider band that covers the $r$ band. \n",
    "Some limits are point sources, and some are extended sources. \n",
    "That means the numbers here aren't super precise, but the overall hierarchies and gist of the plot are the same.\n",
    "\n",
    "This plot is based off the similar plot on the [HSC website weak lensing page](https://hsc.mtk.nao.ac.jp/ssp/science/weak-lensing-cosmology/).\n",
    "Some of my numbers are taken directly from that plot.\n",
    "\n",
    "LSST sources:\n",
    "- DDFs: https://project.lsst.org/groups/sac/sites/lsst.org.groups.sac/files/Brandt_DDF.pdf\n",
    "- Commissioning: https://project.lsst.org/meetings/rubin2022/sites/default/files/Rubin%20PCW%202022%20-%20Science%20Verification%20and%20Validation_0.pdf"
   ]
  },
  {
   "cell_type": "code",
   "execution_count": null,
   "metadata": {},
   "outputs": [],
   "source": [
    "import numpy as np\n",
    "import matplotlib.pyplot as plt"
   ]
  },
  {
   "cell_type": "code",
   "execution_count": null,
   "metadata": {},
   "outputs": [],
   "source": [
    "future_color = \"C3\"\n",
    "ongoing_color = \"C0\"\n",
    "complete_color = \"k\"\n",
    "\n",
    "surveys = {\n",
    "    # name: [area, depth, color]\n",
    "\n",
    "    # Future\n",
    "    \"LSST\\n(deep comm)\": [100, 27.7, future_color],\n",
    "    \"LSST\\n(wide comm)\": [1_000, 26.4, future_color],\n",
    "    \"LSST\\n(deep)\": [40, 28.9, future_color],\n",
    "    \"LSST\\n(wide)\": [18_000, 27.3, future_color],\n",
    "    #\"Euclid\\n(wide)\": [15_000, 25.3, future_color],\n",
    "    #\"Euclid\\n(deep)\": [40, 27.3, future_color],\n",
    "\n",
    "    # Ongoing\n",
    "    \"HSC\\n(wide)\": [1400, 26.1, ongoing_color],\n",
    "    \"HSC\\n(deep)\": [27, 27.1, ongoing_color],\n",
    "    \"HSC\\n(UD)\": [3.5, 27.7, ongoing_color],\n",
    "    \"DES\\n(wide)\": [5000, 25.2, ongoing_color],\n",
    "    \"DES\\n(deep)\": [5.88, 27.1, ongoing_color],\n",
    "    \"KiDS\": [1500, 25.2, ongoing_color],\n",
    "    \"PS1\\n($3\\pi$)\": [30_000, 23.2, ongoing_color],\n",
    "    \"PS1\\n(MDS)\": [70, 26, ongoing_color],\n",
    "    \"PS2\": [7000, 24.9, ongoing_color],\n",
    "    \n",
    "    # Completed\n",
    "    \"SDSS\\n(Legacy)\": [7500, 23, complete_color],\n",
    "    \"SDSS\\n(Stripe 82)\": [300, 25.1, complete_color],\n",
    "    \"CFHTLS\\n(deep)\": [4, 26.6, complete_color],\n",
    "    \"CFHTLS\\n(wide)\": [155, 24.8, complete_color],\n",
    "    \"COSMOS\": [2, 26.7, complete_color],\n",
    "    \"BCS\": [80, 24.8, complete_color],\n",
    "    \"RCS\": [100, 24.7, complete_color],\n",
    "    \"RCS-2\": [1000, 24.3, complete_color],\n",
    "    \"NDWFS\": [18, 26.0, complete_color],\n",
    "    \"SXDS\": [1.3, 27.5, complete_color],\n",
    "    #\"DLS\": [20, 27, complete_color],\n",
    "    #\"HDF\": [0.00294, 29, complete_color],\n",
    "    #\"HUDF\": [0.003194, 30, complete_color],\n",
    "}"
   ]
  },
  {
   "cell_type": "code",
   "execution_count": null,
   "metadata": {},
   "outputs": [],
   "source": [
    "def plot_surveys(lsst_full=False, euclid=False):\n",
    "    fig, ax = plt.subplots(figsize=(4, 4), dpi=150)\n",
    "    ax.set(\n",
    "        xlabel=\"Area (deg$^2$)\",\n",
    "        ylabel=\"Depth (AB mag, $5\\sigma$)\",\n",
    "        xscale=\"log\",\n",
    "        xlim=(0.7, 5e4),\n",
    "        ylim=(22.8, 29.7),\n",
    "    )\n",
    "\n",
    "    # plot the surveys\n",
    "    for survey, (area, depth, color) in surveys.items():\n",
    "        # skip the LSST full surveys?\n",
    "        if not lsst_full and (survey == \"LSST\\n(deep)\" or survey == \"LSST\\n(wide)\"):\n",
    "            continue\n",
    "        # skip Euclid?\n",
    "        if not euclid and \"Euclid\" in survey:\n",
    "            continue\n",
    "        \n",
    "        # plot the survey point\n",
    "        ax.scatter(area, depth, marker=\"s\", s=10, c=color)\n",
    "\n",
    "        # determine annotation offsets\n",
    "        if survey == \"Euclid\\n(deep)\":\n",
    "            x_offset = 50\n",
    "        elif survey == \"CFHTLS\\n(wide)\" and \"RCS\" in surveys:\n",
    "            x_offset = 90\n",
    "        elif survey == \"RCS\" and \"CFHTLS\\n(wide)\" in surveys:\n",
    "            x_offset = -20\n",
    "        else:\n",
    "            x_offset = 0\n",
    "        \n",
    "        if survey in [\"CFHTLS\\n(wide)\", \"CFHTLS\\n(deep)\", \"HSC\\n(wide)\", \"HSC\\n(deep)\"]:\n",
    "            y_offset = -0.55\n",
    "        elif survey in [\"PS2\", \"NDWFS\", \"KiDS\"]:\n",
    "            y_offset = -0.32\n",
    "        elif survey == \"RCS\":\n",
    "            y_offset = -0.31\n",
    "        elif survey == \"Euclid\\n(deep)\":\n",
    "            y_offset = -0.25\n",
    "        else:\n",
    "            y_offset = 0.1\n",
    "\n",
    "        # set box around text\n",
    "        if \"LSST\" in survey and not (\"comm\" in survey and lsst_full):\n",
    "            bbox = dict(facecolor=\"none\", edgecolor=\"C3\", pad=1, lw=0.5)\n",
    "            y_offset += 0.07\n",
    "        else:\n",
    "            bbox = None\n",
    "\n",
    "        # label the survey point\n",
    "        ax.annotate(survey, (area+x_offset, depth+y_offset), fontsize=7, ha=\"center\", va=\"bottom\", color=color, bbox=bbox)\n",
    "\n",
    "    # if we plotted the full LSST surveys, point from commissioning to science fields\n",
    "    if lsst_full:\n",
    "        pass\n",
    "        ax.annotate(\n",
    "            \"\",\n",
    "            xy=np.array(surveys[\"LSST\\n(deep)\"][:2]) + np.array([+3, -0.05]),\n",
    "            xytext=np.array(surveys[\"LSST\\n(deep comm)\"][:2]) + np.array([-30, +0.6]),\n",
    "            arrowprops=dict(arrowstyle=\"->\", color=\"C3\"),\n",
    "        )\n",
    "        ax.annotate(\n",
    "            \"\",\n",
    "            xy=np.array(surveys[\"LSST\\n(wide)\"][:2]) + np.array([-1_500, -0.02]),\n",
    "            xytext=np.array(surveys[\"LSST\\n(wide comm)\"][:2]) + np.array([1_000, 0.45]),\n",
    "            arrowprops=dict(arrowstyle=\"->\", color=\"C3\"),\n",
    "        )\n",
    "\n",
    "    # put the legend in the bottom left\n",
    "    ax.text(0.01, 0.01, \"Completed\", color=\"k\", transform=ax.transAxes, va=\"bottom\", ha=\"left\", fontsize=9)\n",
    "    ax.text(0.01, 0.06, \"Ongoing\", color=\"C0\", transform=ax.transAxes, va=\"bottom\", ha=\"left\", fontsize=9)\n",
    "    ax.text(0.01, 0.11, \"Future\", color=\"C3\", transform=ax.transAxes, va=\"bottom\", ha=\"left\", fontsize=9)\n",
    "\n",
    "    plt.tight_layout()\n",
    "\n",
    "    return fig, ax"
   ]
  },
  {
   "cell_type": "code",
   "execution_count": null,
   "metadata": {},
   "outputs": [],
   "source": [
    "fig, ax = plot_surveys(lsst_full=False, euclid=True)\n",
    "fig.savefig(\"figures/surveys_preLsst.png\", dpi=500)"
   ]
  },
  {
   "cell_type": "code",
   "execution_count": null,
   "metadata": {},
   "outputs": [],
   "source": [
    "fig, ax = plot_surveys(lsst_full=True, euclid=True)\n",
    "fig.savefig(\"figures/surveys_postLsst.png\", dpi=500)"
   ]
  },
  {
   "cell_type": "code",
   "execution_count": null,
   "metadata": {},
   "outputs": [],
   "source": []
  }
 ],
 "metadata": {
  "kernelspec": {
   "display_name": "Python 3.10.6 ('general-exam')",
   "language": "python",
   "name": "python3"
  },
  "language_info": {
   "codemirror_mode": {
    "name": "ipython",
    "version": 3
   },
   "file_extension": ".py",
   "mimetype": "text/x-python",
   "name": "python",
   "nbconvert_exporter": "python",
   "pygments_lexer": "ipython3",
   "version": "3.10.6"
  },
  "orig_nbformat": 4,
  "vscode": {
   "interpreter": {
    "hash": "a9fa9dfe4c3a4326bde71079f71c36e0c4bf9dac2741eb55202c3f185863794d"
   }
  }
 },
 "nbformat": 4,
 "nbformat_minor": 2
}
