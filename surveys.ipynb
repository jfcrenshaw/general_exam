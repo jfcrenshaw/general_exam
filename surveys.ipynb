{
 "cells": [
  {
   "cell_type": "markdown",
   "metadata": {},
   "source": [
    "This notebook plots the depth and area of various imaging surveys. Where possible, limits are $r$ band, or a wider band that covers the $r$ band. \n",
    "Some limits are point sources, and some are extended sources. \n",
    "That means the numbers here aren't super precise, but the overall hierarchies and gist of the plot are the same.\n",
    "\n",
    "This plot is based off the similar plot on the [HSC website weak lensing page](https://hsc.mtk.nao.ac.jp/ssp/science/weak-lensing-cosmology/).\n",
    "Some of my numbers are taken directly from that plot"
   ]
  },
  {
   "cell_type": "code",
   "execution_count": null,
   "metadata": {},
   "outputs": [],
   "source": [
    "import numpy as np\n",
    "import matplotlib.pyplot as plt"
   ]
  },
  {
   "cell_type": "code",
   "execution_count": null,
   "metadata": {},
   "outputs": [],
   "source": [
    "surveys = {\n",
    "    # name: [area, depth, color]\n",
    "\n",
    "    # Future\n",
    "    \"LSST\\n(comm)\": [10, 27.7, \"C3\"],\n",
    "    \"LSST\\n(deep)\": [38.5, 28.9, \"C3\"],\n",
    "    \"LSST\\n(wide)\": [18_000, 27.3, \"C3\"],\n",
    "    \"Euclid\\n(wide)\": [15_000, 25.3, \"C3\"],\n",
    "    \"Euclid\\n(deep)\": [40, 27.3, \"C3\"],\n",
    "\n",
    "    # Ongoing\n",
    "    \"HSC\\n(wide)\": [1400, 26.1, \"C0\"],\n",
    "    \"HSC\\n(deep)\": [27, 27.1, \"C0\"],\n",
    "    \"HSC\\n(UD)\": [3.5, 27.7, \"C0\"],\n",
    "    \"DES\\n(wide)\": [5000, 25.2, \"C0\"],\n",
    "    \"DES\\n(deep)\": [5.88, 27.1, \"C0\"],\n",
    "    \"KiDS\": [1500, 25.2, \"C0\"],\n",
    "    \"PS1\\n($3\\pi$)\": [30_000, 23.2, \"C0\"],\n",
    "    \"PS1\\n(MDS)\": [70, 26, \"C0\"],\n",
    "    \"PS2\": [7000, 24.9, \"C0\"],\n",
    "    \n",
    "    # Completed\n",
    "    \"SDSS\\n(Legacy)\": [7500, 23, \"k\"],\n",
    "    \"SDSS\\n(Stripe 82)\": [300, 25.1, \"k\"],\n",
    "    \"CFHTLS\\n(deep)\": [4, 26.6, \"k\"],\n",
    "    \"CFHTLS\\n(wide)\": [155, 24.8, \"k\"],\n",
    "    \"COSMOS\": [2, 26.7, \"k\"],\n",
    "    \"BCS\": [80, 24.8, \"k\"],\n",
    "    \"RCS\": [100, 24.7, \"k\"],\n",
    "    \"RCS-2\": [1000, 24.3, \"k\"],\n",
    "    \"NDWFS\": [18, 26.0, \"k\"],\n",
    "    \"SXDS\": [1.3, 27.5, \"k\"],\n",
    "    #\"HDF\": [0.00294, 29, \"k\"],\n",
    "    #\"HUDF\": [0.003194, 30, \"k\"],\n",
    "}"
   ]
  },
  {
   "cell_type": "code",
   "execution_count": null,
   "metadata": {},
   "outputs": [],
   "source": [
    "def plot_surveys(lsst_full=False, euclid=False):\n",
    "    fig, ax = plt.subplots(figsize=(4, 4), dpi=150)\n",
    "    ax.set(\n",
    "        xlabel=\"Area (deg$^2$)\",\n",
    "        ylabel=\"Depth (AB mag, $5\\sigma$)\",\n",
    "        xscale=\"log\",\n",
    "        xlim=(0.7, 5e4),\n",
    "        ylim=(22.8, 29.7),\n",
    "    )\n",
    "\n",
    "    # plot the surveys\n",
    "    for survey, (area, depth, color) in surveys.items():\n",
    "        # skip the LSST full surveys?\n",
    "        if not lsst_full and (survey == \"LSST\\n(deep)\" or survey == \"LSST\\n(wide)\"):\n",
    "            continue\n",
    "        # skip Euclid?\n",
    "        if not euclid and \"Euclid\" in survey:\n",
    "            continue\n",
    "        \n",
    "        # plot the survey point\n",
    "        ax.scatter(area, depth, marker=\"s\", s=10, c=color)\n",
    "\n",
    "        # determine annotation offsets\n",
    "        if survey == \"HSC\\n(UD)\":\n",
    "            x_offset = -0.5\n",
    "        elif survey == \"CFHTLS\\n(wide)\" and \"RCS\" in surveys:\n",
    "            x_offset = 90\n",
    "        elif survey == \"RCS\" and \"CFHTLS\\n(wide)\" in surveys:\n",
    "            x_offset = -20\n",
    "        else:\n",
    "            x_offset = 0\n",
    "        \n",
    "        if survey == \"CFHTLS\\n(deep)\" or survey == \"HSC\\n(deep)\":\n",
    "            y_offset = -0.6\n",
    "        elif survey == \"CFHTLS\\n(wide)\":\n",
    "            y_offset = -0.57\n",
    "        elif survey == \"PS2\" or survey == \"NDWFS\":\n",
    "            y_offset = -0.32\n",
    "        elif survey == \"RCS\":\n",
    "            y_offset = -0.31\n",
    "        else:\n",
    "            y_offset = 0.1\n",
    "\n",
    "        # set box around text\n",
    "        if \"LSST\" in survey and not (survey == \"LSST\\n(comm)\" and lsst_full):\n",
    "            bbox = dict(facecolor=\"none\", edgecolor=\"C3\", pad=1, lw=0.5)\n",
    "            y_offset += 0.07\n",
    "        else:\n",
    "            bbox = None\n",
    "\n",
    "        # label the survey point\n",
    "        ax.annotate(survey, (area+x_offset, depth+y_offset), fontsize=7, ha=\"center\", va=\"bottom\", color=color, bbox=bbox)\n",
    "\n",
    "    # if we plotted the full LSST surveys, point from commissioning to deep fields\n",
    "    if lsst_full:\n",
    "        ax.annotate(\n",
    "            \"\",\n",
    "            xy=np.array(surveys[\"LSST\\n(deep)\"][:2]) + np.array([-3, -0.05]),\n",
    "            xytext=np.array(surveys[\"LSST\\n(comm)\"][:2]) + np.array([+7, +0.5]),\n",
    "            arrowprops=dict(arrowstyle=\"->\", color=\"C3\"),\n",
    "        )\n",
    "\n",
    "    # put the legend in the bottom left\n",
    "    ax.text(0.01, 0.01, \"Completed\", color=\"k\", transform=ax.transAxes, va=\"bottom\", ha=\"left\", fontsize=9)\n",
    "    ax.text(0.01, 0.06, \"Ongoing\", color=\"C0\", transform=ax.transAxes, va=\"bottom\", ha=\"left\", fontsize=9)\n",
    "    ax.text(0.01, 0.11, \"Future\", color=\"C3\", transform=ax.transAxes, va=\"bottom\", ha=\"left\", fontsize=9)"
   ]
  },
  {
   "cell_type": "code",
   "execution_count": null,
   "metadata": {},
   "outputs": [],
   "source": [
    "plot_surveys(lsst_full=False, euclid=True)"
   ]
  },
  {
   "cell_type": "code",
   "execution_count": null,
   "metadata": {},
   "outputs": [],
   "source": [
    "plot_surveys(lsst_full=True, euclid=True)"
   ]
  },
  {
   "cell_type": "code",
   "execution_count": null,
   "metadata": {},
   "outputs": [],
   "source": []
  }
 ],
 "metadata": {
  "kernelspec": {
   "display_name": "Python 3.9.13 ('pzflow-paper')",
   "language": "python",
   "name": "python3"
  },
  "language_info": {
   "codemirror_mode": {
    "name": "ipython",
    "version": 3
   },
   "file_extension": ".py",
   "mimetype": "text/x-python",
   "name": "python",
   "nbconvert_exporter": "python",
   "pygments_lexer": "ipython3",
   "version": "3.9.13"
  },
  "orig_nbformat": 4,
  "vscode": {
   "interpreter": {
    "hash": "76055b4f09a08e430808f746284b9e73f9978aae4679892e2d92b3c740836beb"
   }
  }
 },
 "nbformat": 4,
 "nbformat_minor": 2
}
