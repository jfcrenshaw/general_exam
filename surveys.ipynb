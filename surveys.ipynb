{
 "cells": [
  {
   "cell_type": "markdown",
   "metadata": {},
   "source": [
    "This notebook plots the depth and area of various surveys that have been used to measure the UV Luminosity function.\n",
    "I tried to list all of the current best-measurements: Hubble for deep, and HSC for wide.\n",
    "\n",
    "LSST sources:\n",
    "- DDFs: https://project.lsst.org/groups/sac/sites/lsst.org.groups.sac/files/Brandt_DDF.pdf\n",
    "- Commissioning: https://project.lsst.org/meetings/rubin2022/sites/default/files/Rubin%20PCW%202022%20-%20Science%20Verification%20and%20Validation_0.pdf\n",
    "\n",
    "Hubble sources:\n",
    "- https://arxiv.org/pdf/2102.07775.pdf\n",
    "- https://arxiv.org/pdf/1403.4295.pdf\n"
   ]
  },
  {
   "cell_type": "code",
   "execution_count": null,
   "metadata": {},
   "outputs": [],
   "source": [
    "import numpy as np\n",
    "import matplotlib.pyplot as plt"
   ]
  },
  {
   "cell_type": "code",
   "execution_count": null,
   "metadata": {},
   "outputs": [],
   "source": [
    "lsst_color = \"C3\"\n",
    "stage3_color = \"C0\"\n",
    "hubble_color = \"k\"\n",
    "\n",
    "single = 0.15\n",
    "single_under = -0.18\n",
    "double = 0.25\n",
    "double_under = -0.28\n",
    "\n",
    "surveys = {\n",
    "    # name: [area, depth, color, x_offset, y_offset]\n",
    "\n",
    "    # LSST\n",
    "    \"LSST\\n(wide comm)\": [1_000, 26.4, lsst_color, 0, double],\n",
    "    \"LSST\\n(deep comm)\": [100, 27.7, lsst_color, 0, double],\n",
    "    \"LSST\\n(wide)\": [18_000, 27.3, lsst_color, 0, double],\n",
    "    \"LSST\\n(deep)\": [40, 28.9, lsst_color, 0, double],\n",
    "\n",
    "    # HSC\n",
    "    \"HSC\\n(wide)\": [1400, 26.1, stage3_color, 0, double_under],  # numbers in GOLDRUSH IV\n",
    "    \"HSC\\n(deep)\": [27, 27.1, stage3_color, 0, double],  # numbers in GOLDRUSH IV\n",
    "    \"HSC\\n(UD)\": [3.5, 27.7, stage3_color, 0, double],  # numbers in GOLDRUSH IV\n",
    "\n",
    "    # other DE Stage III experiments\n",
    "    \"DES\\n(wide)\": [5000, 25.2, stage3_color, 12_000, -0.1],\n",
    "    \"DES\\n(deep)\": [5.88, 27.1, stage3_color, 0, double_under],\n",
    "    \"KiDS\": [1500, 25.2, stage3_color, 0, single],\n",
    "\n",
    "    # Hubble Fields\n",
    "    \"CANDELS\\n(wide)\": [0.19, 27.6, hubble_color, 0, double_under],\n",
    "    \"CANDELS\\n(deep)\": [0.03, 28.2, hubble_color, 0, double_under],\n",
    "    \"GOODS\": [0.08, 28.5, hubble_color, 0, single],\n",
    "    \"HFF\": [0.008, 29, hubble_color, 0, single_under],\n",
    "    \"HDF\": [0.0018, 29, hubble_color, -6e-4, single_under],\n",
    "    \"HUDF\\nParallel\": [0.003, 29, hubble_color, 5e-4, double],\n",
    "    \"HUDF\": [0.001, 30, hubble_color, 0, single],\n",
    "}"
   ]
  },
  {
   "cell_type": "code",
   "execution_count": null,
   "metadata": {},
   "outputs": [],
   "source": [
    "def plot_surveys(lsst_comm=False, lsst_full=False):\n",
    "    fig, ax = plt.subplots(figsize=(4, 4), dpi=150)\n",
    "    ax.set(\n",
    "        xlabel=\"Area (deg$^2$)\",\n",
    "        ylabel=\"Depth (AB mag, $5\\sigma$)\",\n",
    "        xscale=\"log\",\n",
    "        xlim=(3e-4, 1.5e5),\n",
    "        ylim=(24.7, 30.5),\n",
    "    )\n",
    "\n",
    "    # plot the surveys\n",
    "    for survey, (area, depth, color, x_offset, y_offset) in surveys.items():\n",
    "        # skip LSST commissioning?\n",
    "        if not lsst_comm and (survey == \"LSST\\n(wide comm)\" or survey == \"LSST\\n(deep comm)\"):\n",
    "            continue\n",
    "        # skip LSST full survey?\n",
    "        if not lsst_full and (survey == \"LSST\\n(wide)\" or survey == \"LSST\\n(deep)\"):\n",
    "            continue\n",
    "        \n",
    "        # plot the survey point\n",
    "        ax.scatter(area, depth, marker=\"s\", s=10, c=color)\n",
    "\n",
    "        # set box around text\n",
    "        if \"LSST\" in survey and not (\"comm\" in survey and lsst_full):\n",
    "            bbox = dict(facecolor=\"none\", edgecolor=\"C3\", pad=1, lw=0.5)\n",
    "            y_offset += 0.07\n",
    "        else:\n",
    "            bbox = None\n",
    "\n",
    "        # label the survey point\n",
    "        ax.annotate(survey, (area+x_offset, depth+y_offset), fontsize=7, ha=\"center\", va=\"center\", color=color, bbox=bbox)\n",
    "\n",
    "    # put the legend in the bottom left\n",
    "    ax.text(0.01, 0.01, \"Hubble\", color=\"k\", transform=ax.transAxes, va=\"bottom\", ha=\"left\", fontsize=9)\n",
    "    ax.text(0.01, 0.06, \"Ground\", color=\"C0\", transform=ax.transAxes, va=\"bottom\", ha=\"left\", fontsize=9)\n",
    "    if lsst_comm or lsst_full:\n",
    "        ax.text(0.01, 0.11, \"LSST\", color=\"C3\", transform=ax.transAxes, va=\"bottom\", ha=\"left\", fontsize=9)\n",
    "\n",
    "    # if we plotted the full LSST surveys, point from commissioning to science fields\n",
    "    if lsst_comm and lsst_full:\n",
    "        pass\n",
    "        ax.annotate(\n",
    "            \"\",\n",
    "            xy=np.array(surveys[\"LSST\\n(deep)\"][:2]) + np.array([+3, -0.05]),\n",
    "            xytext=np.array(surveys[\"LSST\\n(deep comm)\"][:2]) + np.array([-30, +0.45]),\n",
    "            arrowprops=dict(arrowstyle=\"->\", color=\"C3\"),\n",
    "        )\n",
    "        ax.annotate(\n",
    "            \"\",\n",
    "            xy=np.array(surveys[\"LSST\\n(wide)\"][:2]) + np.array([-4000, -0.04]),\n",
    "            xytext=np.array(surveys[\"LSST\\n(wide comm)\"][:2]) + np.array([1_000, 0.45]),\n",
    "            arrowprops=dict(arrowstyle=\"->\", color=\"C3\"),\n",
    "        )\n",
    "\n",
    "    plt.tight_layout()\n",
    "\n",
    "    return fig, ax"
   ]
  },
  {
   "cell_type": "code",
   "execution_count": null,
   "metadata": {},
   "outputs": [],
   "source": [
    "fig, ax = plot_surveys(lsst_comm=False, lsst_full=False)\n",
    "fig.savefig(\"figures/surveys_preLsst.png\", dpi=500)"
   ]
  },
  {
   "cell_type": "code",
   "execution_count": null,
   "metadata": {},
   "outputs": [],
   "source": [
    "fig, ax = plot_surveys(lsst_comm=True, lsst_full=False)\n",
    "fig.savefig(\"figures/surveys_commLsst.png\", dpi=500)"
   ]
  },
  {
   "cell_type": "code",
   "execution_count": null,
   "metadata": {},
   "outputs": [],
   "source": [
    "fig, ax = plot_surveys(lsst_comm=True, lsst_full=True)\n",
    "fig.savefig(\"figures/surveys_postLsst.png\", dpi=500)"
   ]
  },
  {
   "cell_type": "code",
   "execution_count": null,
   "metadata": {},
   "outputs": [],
   "source": []
  }
 ],
 "metadata": {
  "kernelspec": {
   "display_name": "Python 3.10.6 ('general-exam')",
   "language": "python",
   "name": "python3"
  },
  "language_info": {
   "codemirror_mode": {
    "name": "ipython",
    "version": 3
   },
   "file_extension": ".py",
   "mimetype": "text/x-python",
   "name": "python",
   "nbconvert_exporter": "python",
   "pygments_lexer": "ipython3",
   "version": "3.10.6"
  },
  "orig_nbformat": 4,
  "vscode": {
   "interpreter": {
    "hash": "a9fa9dfe4c3a4326bde71079f71c36e0c4bf9dac2741eb55202c3f185863794d"
   }
  }
 },
 "nbformat": 4,
 "nbformat_minor": 2
}
